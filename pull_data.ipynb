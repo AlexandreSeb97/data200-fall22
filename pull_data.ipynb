{
 "cells": [
  {
   "cell_type": "code",
   "execution_count": 1,
   "metadata": {},
   "outputs": [],
   "source": [
    "from pathlib import Path\n",
    "import time\n",
    "\n",
    "import requests\n",
    "import pandas as pd\n",
    "import utils"
   ]
  },
  {
   "cell_type": "code",
   "execution_count": 2,
   "metadata": {},
   "outputs": [],
   "source": [
    "def fetch_and_cache(data_url, file, data_dir=\"data\", force=False):\n",
    "    \"\"\"\n",
    "    Download and cache a url and return the file object.\n",
    "\n",
    "    data_url: the web address to download\n",
    "    file: the file in which to save the results.\n",
    "    data_dir: (default=\"data\") the location to save the data\n",
    "    force: if true the file is always re-downloaded\n",
    "\n",
    "    return: The pathlib.Path object representing the file.\n",
    "    \"\"\"\n",
    "\n",
    "    data_dir = Path(data_dir)\n",
    "    data_dir.mkdir(exist_ok = True)\n",
    "    file_path = data_dir / Path(file)\n",
    "    # If the file already exists and we want to force a download then\n",
    "    # delete the file first so that the creation date is correct.\n",
    "    if force and file_path.exists():\n",
    "        file_path.unlink()\n",
    "    if force or not file_path.exists():\n",
    "        print('Downloading...', end=' ')\n",
    "        resp = requests.get(data_url)\n",
    "        with file_path.open('wb') as f:\n",
    "            f.write(resp.content)\n",
    "        print('Done!')\n",
    "        last_modified_time = time.ctime(file_path.stat().st_mtime)\n",
    "    else:\n",
    "        last_modified_time = time.ctime(file_path.stat().st_mtime)\n",
    "        print(\"Using cached version that was downloaded (UTC):\", last_modified_time)\n",
    "    return file_path\n",
    "\n",
    "def fetch_and_cache_gdrive(gdrive_id, file, data_dir=\"data\", force=False):\n",
    "    \"\"\"\n",
    "    Download and cache a url and return the file object.\n",
    "\n",
    "    data_url: the web address to download\n",
    "    file: the file in which to save the results.\n",
    "    data_dir: (default=\"data\") the location to save the data\n",
    "    force: if true the file is always re-downloaded\n",
    "\n",
    "    return: The pathlib.Path object representing the file.\n",
    "    \"\"\"\n",
    "\n",
    "    data_dir = Path(data_dir)\n",
    "    data_dir.mkdir(exist_ok = True)\n",
    "    file_path = data_dir / Path(file)\n",
    "    # If the file already exists and we want to force a download then\n",
    "    # delete the file first so that the creation date is correct.\n",
    "    if force and file_path.exists():\n",
    "        file_path.unlink()\n",
    "    if force or not file_path.exists():\n",
    "        print('Downloading...', end=' ')\n",
    "        download_file_from_google_drive(gdrive_id, file_path)\n",
    "        print('Done!')\n",
    "        last_modified_time = time.ctime(file_path.stat().st_mtime)\n",
    "    else:\n",
    "        last_modified_time = time.ctime(file_path.stat().st_mtime)\n",
    "        print(\"Using cached version that was downloaded (UTC):\", last_modified_time)\n",
    "    return file_path\n",
    "\n",
    "\n",
    "\n",
    "# https://stackoverflow.com/questions/38511444/python-download-files-from-google-drive-using-url\n",
    "\n",
    "def download_file_from_google_drive(id, destination):\n",
    "    URL = \"https://docs.google.com/uc?export=download\"\n",
    "\n",
    "    session = requests.Session()\n",
    "\n",
    "    response = session.get(URL, params = { 'id' : id }, stream = True)\n",
    "    token = get_confirm_token(response)\n",
    "\n",
    "    if token:\n",
    "        params = { 'id' : id, 'confirm' : token }\n",
    "        response = session.get(URL, params = params, stream = True)\n",
    "\n",
    "    save_response_content(response, destination)\n",
    "\n",
    "def get_confirm_token(response):\n",
    "    for key, value in response.cookies.items():\n",
    "        if key.startswith('download_warning'):\n",
    "            return value\n",
    "\n",
    "    return None\n",
    "\n",
    "def save_response_content(response, destination):\n",
    "    CHUNK_SIZE = 32768\n",
    "\n",
    "    with open(destination, \"wb\") as f:\n",
    "        for chunk in response.iter_content(CHUNK_SIZE):\n",
    "            if chunk: # filter out keep-alive new chunks\n",
    "                f.write(chunk)\n"
   ]
  },
  {
   "cell_type": "code",
   "execution_count": 4,
   "metadata": {},
   "outputs": [
    {
     "name": "stdout",
     "output_type": "stream",
     "text": [
      "Downloading... Done!\n",
      "Downloading... Done!\n"
     ]
    },
    {
     "data": {
      "text/plain": [
       "WindowsPath('data/plant_pollinator_diversity_set2.csv')"
      ]
     },
     "execution_count": 4,
     "metadata": {},
     "output_type": "execute_result"
    }
   ],
   "source": [
    "#Pull data from google drive\n",
    "\n",
    "#bioCON plant diversity\n",
    "#utils.fetch_and_cache_gdrive('1WIIljYUz3B45K9DOA1M3cfGOedtgxLFL', 'bioCON_plant_diversity.txt', data_dir = '')\n",
    "\n",
    "#pollinators 1\n",
    "fetch_and_cache_gdrive('1JCynlMV0Um07MUa3E0qSqdDYOGfy9Eyr', 'plant_pollinator_diversity_set1.csv', data_dir = 'data/')\n",
    "\n",
    "#pollinators 2\n",
    "fetch_and_cache_gdrive('1IjzzaYep_BXIzMVjIBmh8AiXbydwmYk_', 'plant_pollinator_diversity_set2.csv', data_dir = 'data/')\n"
   ]
  }
 ],
 "metadata": {
  "kernelspec": {
   "display_name": "Python 3.9.13 ('RemoteSensing-DataScience')",
   "language": "python",
   "name": "python3"
  },
  "language_info": {
   "codemirror_mode": {
    "name": "ipython",
    "version": 3
   },
   "file_extension": ".py",
   "mimetype": "text/x-python",
   "name": "python",
   "nbconvert_exporter": "python",
   "pygments_lexer": "ipython3",
   "version": "3.9.13"
  },
  "orig_nbformat": 4,
  "vscode": {
   "interpreter": {
    "hash": "d29cead0ac10c77f5148a0de6a0502ec179540721374c9c0ac26d58b6ebaefe8"
   }
  }
 },
 "nbformat": 4,
 "nbformat_minor": 2
}
